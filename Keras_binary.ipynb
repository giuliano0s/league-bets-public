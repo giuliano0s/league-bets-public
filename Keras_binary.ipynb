{
 "cells": [
  {
   "cell_type": "markdown",
   "id": "07ebcb47",
   "metadata": {},
   "source": [
    "# Setup"
   ]
  },
  {
   "cell_type": "code",
   "execution_count": 993,
   "id": "eed29b12",
   "metadata": {},
   "outputs": [
    {
     "data": {
      "text/html": [
       "\n",
       "        <script>\n",
       "            function code_toggle_8600211270413370364() {\n",
       "                $('div.cell.code_cell.rendered.selected').find('div.input').toggle();\n",
       "            }\n",
       "\n",
       "            \n",
       "        </script>\n",
       "\n",
       "        <a href=\"javascript:code_toggle_8600211270413370364()\">Toggle show/hide</a>\n",
       "    "
      ],
      "text/plain": [
       "<IPython.core.display.HTML object>"
      ]
     },
     "execution_count": 993,
     "metadata": {},
     "output_type": "execute_result"
    }
   ],
   "source": [
    "import pandas as pd\n",
    "import numpy as np\n",
    "import seaborn as sns\n",
    "import matplotlib.pyplot as plt\n",
    "import matplotlib as mpl\n",
    "from scipy import stats\n",
    "\n",
    "from sklearn.model_selection import train_test_split, RandomizedSearchCV, GridSearchCV, RepeatedKFold, cross_val_score\n",
    "import sklearn.metrics as skm\n",
    "from sklearn.metrics import accuracy_score\n",
    "from sklearn.cluster import AffinityPropagation as AP\n",
    "from sklearn.preprocessing import MinMaxScaler\n",
    "\n",
    "from sklearn.ensemble import RandomForestClassifier, BaggingClassifier, AdaBoostClassifier, VotingClassifier\n",
    "from sklearn.linear_model import LogisticRegression\n",
    "from sklearn.neighbors import KNeighborsClassifier\n",
    "from sklearn.tree import DecisionTreeClassifier\n",
    "from sklearn.naive_bayes import MultinomialNB\n",
    "from sklearn.svm import LinearSVC\n",
    "from xgboost import XGBRegressor, XGBClassifier\n",
    "\n",
    "# Keras specific\n",
    "import tensorflow as tf\n",
    "from tensorflow import keras\n",
    "from tensorflow.keras import layers\n",
    "import keras\n",
    "from keras.models import Sequential\n",
    "from keras.layers import Dense\n",
    "from keras.utils import to_categorical \n",
    "\n",
    "import re\n",
    "import time\n",
    "import datetime as dt\n",
    "\n",
    "import sys\n",
    "import os\n",
    "sys.path.append(os.path.abspath\n",
    "                (os.path.join\n",
    "                 (os.path.dirname(\"constants.py\"), '..')))\n",
    "from constants import *\n",
    "from scripts import *\n",
    "\n",
    "import warnings\n",
    "pd.set_option('display.max_rows', 100)\n",
    "pd.set_option('display.max_columns', None)\n",
    "warnings.filterwarnings('ignore')\n",
    "\n",
    "hide_toggle()"
   ]
  },
  {
   "cell_type": "markdown",
   "id": "d199165f",
   "metadata": {},
   "source": [
    "# Load"
   ]
  },
  {
   "cell_type": "code",
   "execution_count": 1081,
   "id": "ce4def85",
   "metadata": {},
   "outputs": [],
   "source": [
    "teamDataTable = pd.read_pickle(\"Data/raw_data/teamDataTable.pkl\")\n",
    "playerDataTable = pd.read_pickle(\"Data/raw_data/playerDataTable.pkl\")\n",
    "\n",
    "matchList = pd.read_pickle(\"Data/raw_data/matchList.pkl\")\n",
    "teamMatchList = pd.read_pickle(\"Data/raw_data/teamMatchList.pkl\")\n",
    "playerMatchList = pd.read_pickle(\"Data/raw_data/playerMatchList.pkl\")"
   ]
  },
  {
   "cell_type": "code",
   "execution_count": 1082,
   "id": "31416db9",
   "metadata": {},
   "outputs": [
    {
     "name": "stdout",
     "output_type": "stream",
     "text": [
      "29602\n"
     ]
    }
   ],
   "source": [
    "df = matchList.copy()\n",
    "\n",
    "offCols = ['Blue', 'Red', 'Tournament', 'TOP_Blue', 'JNG_Blue',\n",
    "           'MID_Blue', 'ADC_Blue', 'SUP_Blue', 'TOP_Red', 'JNG_Red', 'MID_Red',\n",
    "           'ADC_Red', 'SUP_Red', 'matchCode', 'blueKills', 'redKills', 'TournamentRegion',\n",
    "           'totalKills', 'Semester', 'Split', 'Year', 'realSemester', 'realYear']\n",
    "    \n",
    "currentTarget = 'Score'\n",
    "\n",
    "print(len(df))"
   ]
  },
  {
   "cell_type": "code",
   "execution_count": 1083,
   "id": "152fc5f4",
   "metadata": {},
   "outputs": [
    {
     "name": "stdout",
     "output_type": "stream",
     "text": [
      "29276\n"
     ]
    }
   ],
   "source": [
    "dfToSplit = df.copy()\n",
    "dfToSplit = dfToSplit.sort_values(by=['Date'],ascending=True)\n",
    "\n",
    "if 'Team_Blue_Win_rate' in  dfToSplit.columns:\n",
    "    dfToSplit.dropna(subset='Team_Blue_Win_rate',inplace=True)\n",
    "    dfToSplit.dropna(subset='Team_Red_Win_rate',inplace=True)\n",
    "    \n",
    "elif 'TOP_Blue_Win_rate' in  dfToSplit.columns:\n",
    "    dfToSplit.dropna(subset='TOP_Blue_Win_rate',inplace=True)\n",
    "    dfToSplit.dropna(subset='TOP_Red_Win_rate',inplace=True)\n",
    "    \n",
    "if 'Score' in dfToSplit.columns: dfToSplit = dfToSplit[dfToSplit['Score']!=2]\n",
    "\n",
    "for col in dfToSplit.columns:\n",
    "    dfToSplit[col] = dfToSplit[col].fillna(0)\n",
    "    \n",
    "featCols = dfToSplit.drop(currentTarget,axis=1).columns\n",
    "regions = dfToSplit['TournamentRegion'].unique()\n",
    "regions = [x for x in regions if len(dfToSplit[dfToSplit['TournamentRegion']==x])>=300]\n",
    "\n",
    "print(len(dfToSplit))"
   ]
  },
  {
   "cell_type": "markdown",
   "id": "bb36fed0",
   "metadata": {},
   "source": [
    "# KERAS"
   ]
  },
  {
   "cell_type": "code",
   "execution_count": 876,
   "id": "c2964551",
   "metadata": {},
   "outputs": [],
   "source": [
    "dfKeras = dfToSplit.copy()\n",
    "dfKeras = dfKeras.sort_values(by=['Date'],ascending=True)\n",
    "\n",
    "dfKeras = dfKeras.drop(offCols,axis=1)"
   ]
  },
  {
   "cell_type": "code",
   "execution_count": 877,
   "id": "8dd8e95c",
   "metadata": {},
   "outputs": [
    {
     "name": "stdout",
     "output_type": "stream",
     "text": [
      "15512\n"
     ]
    }
   ],
   "source": [
    "to_remove = 'Date','totalKills','Score'\n",
    "\n",
    "target_column = targets[r]\n",
    "predictors = list(dfKeras.columns)\n",
    "predictors = [i for i in predictors if i not in to_remove]\n",
    "print(len(dfKeras.dropna()))\n",
    "#dfKeras[predictors] = dfKeras[predictors]/dfKeras[predictors].max()"
   ]
  },
  {
   "cell_type": "code",
   "execution_count": 878,
   "id": "9359763d",
   "metadata": {},
   "outputs": [
    {
     "name": "stdout",
     "output_type": "stream",
     "text": [
      "10858\n",
      "4654\n"
     ]
    }
   ],
   "source": [
    "x = dfKeras[predictors].values\n",
    "y = dfKeras[target_column].values\n",
    "\n",
    "x_train, x_test, y_train, y_test = train_test_split(x, y, test_size=0.30, random_state=40, shuffle=False)\n",
    "\n",
    "print(str(len(x_train))+'\\n'+str(len(x_test)))"
   ]
  },
  {
   "cell_type": "code",
   "execution_count": 879,
   "id": "ed8aa57c",
   "metadata": {},
   "outputs": [
    {
     "name": "stdout",
     "output_type": "stream",
     "text": [
      "2\n"
     ]
    }
   ],
   "source": [
    "if r==0:\n",
    "    y_train = to_categorical(y_train)\n",
    "    y_test = to_categorical(y_test)\n",
    "\n",
    "    count_classes = y_test.shape[1]\n",
    "    print(count_classes)"
   ]
  },
  {
   "cell_type": "code",
   "execution_count": 880,
   "id": "e2db467c",
   "metadata": {
    "scrolled": true
   },
   "outputs": [
    {
     "name": "stdout",
     "output_type": "stream",
     "text": [
      "Epoch 1/20\n",
      "85/85 [==============================] - 1s 3ms/step - loss: 4.9708 - accuracy: 0.5613 - val_loss: 1.7268 - val_accuracy: 0.5400\n",
      "Epoch 2/20\n",
      "85/85 [==============================] - 0s 2ms/step - loss: 1.2430 - accuracy: 0.6090 - val_loss: 1.1771 - val_accuracy: 0.5599\n",
      "Epoch 3/20\n",
      "85/85 [==============================] - 0s 2ms/step - loss: 0.8556 - accuracy: 0.6616 - val_loss: 1.0966 - val_accuracy: 0.5958\n",
      "Epoch 4/20\n",
      "85/85 [==============================] - 0s 2ms/step - loss: 0.7332 - accuracy: 0.6883 - val_loss: 1.0408 - val_accuracy: 0.5855\n",
      "Epoch 5/20\n",
      "85/85 [==============================] - 0s 2ms/step - loss: 0.6425 - accuracy: 0.7141 - val_loss: 0.9591 - val_accuracy: 0.5617\n",
      "Epoch 6/20\n",
      "85/85 [==============================] - 0s 2ms/step - loss: 0.5831 - accuracy: 0.7436 - val_loss: 0.9745 - val_accuracy: 0.5576\n",
      "Epoch 7/20\n",
      "85/85 [==============================] - 0s 2ms/step - loss: 0.5813 - accuracy: 0.7389 - val_loss: 0.9770 - val_accuracy: 0.5415\n",
      "Epoch 8/20\n",
      "85/85 [==============================] - 0s 2ms/step - loss: 0.5091 - accuracy: 0.7722 - val_loss: 0.9842 - val_accuracy: 0.5653\n",
      "Epoch 9/20\n",
      "85/85 [==============================] - 0s 2ms/step - loss: 0.4863 - accuracy: 0.7796 - val_loss: 0.9606 - val_accuracy: 0.5900\n",
      "Epoch 10/20\n",
      "85/85 [==============================] - 0s 2ms/step - loss: 0.4788 - accuracy: 0.7850 - val_loss: 0.9413 - val_accuracy: 0.5853\n",
      "Epoch 11/20\n",
      "85/85 [==============================] - 0s 2ms/step - loss: 0.4530 - accuracy: 0.7956 - val_loss: 1.0512 - val_accuracy: 0.5774\n",
      "Epoch 12/20\n",
      "85/85 [==============================] - 0s 2ms/step - loss: 0.4910 - accuracy: 0.7744 - val_loss: 0.9569 - val_accuracy: 0.5681\n",
      "Epoch 13/20\n",
      "85/85 [==============================] - 0s 2ms/step - loss: 0.4605 - accuracy: 0.7936 - val_loss: 0.9491 - val_accuracy: 0.5855\n",
      "Epoch 14/20\n",
      "85/85 [==============================] - 0s 2ms/step - loss: 0.4122 - accuracy: 0.8130 - val_loss: 1.0109 - val_accuracy: 0.6018\n",
      "Epoch 15/20\n",
      "85/85 [==============================] - 0s 2ms/step - loss: 0.4049 - accuracy: 0.8189 - val_loss: 1.0242 - val_accuracy: 0.5812\n",
      "Epoch 16/20\n",
      "85/85 [==============================] - 0s 2ms/step - loss: 0.3968 - accuracy: 0.8257 - val_loss: 0.9828 - val_accuracy: 0.5851\n",
      "Epoch 17/20\n",
      "85/85 [==============================] - 0s 2ms/step - loss: 0.3731 - accuracy: 0.8393 - val_loss: 1.0159 - val_accuracy: 0.5771\n",
      "Epoch 18/20\n",
      "85/85 [==============================] - 0s 2ms/step - loss: 0.3568 - accuracy: 0.8491 - val_loss: 1.1278 - val_accuracy: 0.5608\n",
      "Epoch 19/20\n",
      "85/85 [==============================] - 0s 2ms/step - loss: 0.3964 - accuracy: 0.8199 - val_loss: 1.1045 - val_accuracy: 0.5389\n",
      "Epoch 20/20\n",
      "85/85 [==============================] - 0s 2ms/step - loss: 0.3840 - accuracy: 0.8351 - val_loss: 0.9961 - val_accuracy: 0.5801\n"
     ]
    },
    {
     "data": {
      "text/plain": [
       "<keras.callbacks.History at 0x11a969b3790>"
      ]
     },
     "execution_count": 880,
     "metadata": {},
     "output_type": "execute_result"
    }
   ],
   "source": [
    "model = Sequential()\n",
    "model.add(Dense(500, activation='relu', input_dim=len(predictors)))\n",
    "model.add(Dense(100, activation='relu'))\n",
    "model.add(Dense(50, activation='relu'))\n",
    "model.add(Dense(2, activation='softmax'))\n",
    "\n",
    "model.compile(optimizer='adam', \n",
    "              loss='binary_crossentropy',\n",
    "              metrics=['accuracy'])\n",
    "\n",
    "model.fit(x_train, y_train,\n",
    "          batch_size=128,\n",
    "          epochs=20,\n",
    "          verbose=1,\n",
    "          validation_data=(x_test, y_test))"
   ]
  },
  {
   "cell_type": "code",
   "execution_count": 881,
   "id": "7e95bc60",
   "metadata": {},
   "outputs": [
    {
     "name": "stdout",
     "output_type": "stream",
     "text": [
      "340/340 [==============================] - 0s 531us/step\n",
      "Accuracy on training data: 0.8678393959999084% \n",
      "Error on training data: 0.13216060400009155\n",
      "\n",
      "146/146 [==============================] - 0s 524us/step\n",
      "Accuracy on test data: 0.5801461338996887% \n",
      " Error on test data: 0.4198538661003113\n",
      "\n",
      "146/146 [==============================] - 0s 545us/step\n",
      "acc score: 0.5801461108723679\n",
      "len: 4654\n"
     ]
    }
   ],
   "source": [
    "pred_train= model.predict(x_train)\n",
    "scores = model.evaluate(x_train, y_train, verbose=0)\n",
    "print('Accuracy on training data: {}% \\nError on training data: {}\\n'.format(scores[1], 1 - scores[1]))   \n",
    " \n",
    "pred_test= model.predict(x_test)\n",
    "scores2 = model.evaluate(x_test, y_test, verbose=0)\n",
    "print('Accuracy on test data: {}% \\n Error on test data: {}\\n'.format(scores2[1], 1 - scores2[1]))\n",
    "\n",
    "y_pred = model.predict(x_test)\n",
    "teste = pd.DataFrame(y_test).round(0)[0]\n",
    "prev = pd.DataFrame(y_pred).round(0)[0]\n",
    "print(f'acc score: {accuracy_score(teste, prev)}')\n",
    "print(f'len: {len(y_pred)}')"
   ]
  },
  {
   "cell_type": "markdown",
   "id": "25046f8d",
   "metadata": {},
   "source": [
    "# Notes"
   ]
  },
  {
   "cell_type": "code",
   "execution_count": null,
   "id": "9c586526",
   "metadata": {},
   "outputs": [],
   "source": []
  }
 ],
 "metadata": {
  "kernelspec": {
   "display_name": "Python 3 (ipykernel)",
   "language": "python",
   "name": "python3"
  },
  "language_info": {
   "codemirror_mode": {
    "name": "ipython",
    "version": 3
   },
   "file_extension": ".py",
   "mimetype": "text/x-python",
   "name": "python",
   "nbconvert_exporter": "python",
   "pygments_lexer": "ipython3",
   "version": "3.9.13"
  }
 },
 "nbformat": 4,
 "nbformat_minor": 5
}
