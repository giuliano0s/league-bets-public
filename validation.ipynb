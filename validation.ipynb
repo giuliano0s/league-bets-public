{
 "cells": [
  {
   "attachments": {},
   "cell_type": "markdown",
   "metadata": {},
   "source": [
    "# Setup"
   ]
  },
  {
   "cell_type": "code",
   "execution_count": 1,
   "metadata": {},
   "outputs": [],
   "source": [
    "import Utils.model_file as model_file\n",
    "import Utils.utils_file as utils_file\n",
    "import Utils.scraping_file as scraping_file\n",
    "from Utils.constants import *\n",
    "\n",
    "import numpy as np\n",
    "import pandas as pd\n",
    "import sklearn.metrics as skm"
   ]
  },
  {
   "cell_type": "code",
   "execution_count": 2,
   "metadata": {},
   "outputs": [],
   "source": [
    "Model = model_file.Final_Model_Class(target='Score', model_type='logistic')\n",
    "Scraping = scraping_file.Scraping_Class()\n",
    "Utils = Model.Utils\n",
    "Utils.TARGET_DF = Utils.TARGET_DF[Utils.TARGET_DF[Utils.TARGET]!=2]"
   ]
  },
  {
   "cell_type": "code",
   "execution_count": 3,
   "metadata": {},
   "outputs": [
    {
     "name": "stdout",
     "output_type": "stream",
     "text": [
      "500\n"
     ]
    }
   ],
   "source": [
    "validation_df = Utils.TARGET_DF.copy()\n",
    "validation_df = validation_df[validation_df['realSemesterYear'] == CURRENT_YEAR_SEMESTER]\n",
    "print(len(validation_df))"
   ]
  },
  {
   "cell_type": "code",
   "execution_count": 4,
   "metadata": {},
   "outputs": [
    {
     "name": "stdout",
     "output_type": "stream",
     "text": [
      "0.17136666666666667\n"
     ]
    },
    {
     "data": {
      "text/html": [
       "<div>\n",
       "<style scoped>\n",
       "    .dataframe tbody tr th:only-of-type {\n",
       "        vertical-align: middle;\n",
       "    }\n",
       "\n",
       "    .dataframe tbody tr th {\n",
       "        vertical-align: top;\n",
       "    }\n",
       "\n",
       "    .dataframe thead th {\n",
       "        text-align: right;\n",
       "    }\n",
       "</style>\n",
       "<table border=\"1\" class=\"dataframe\">\n",
       "  <thead>\n",
       "    <tr style=\"text-align: right;\">\n",
       "      <th></th>\n",
       "      <th>region</th>\n",
       "      <th>model</th>\n",
       "      <th>test_size</th>\n",
       "      <th>train_size</th>\n",
       "      <th>error</th>\n",
       "      <th>cut_off_var</th>\n",
       "      <th>threshold</th>\n",
       "      <th>len_lost</th>\n",
       "    </tr>\n",
       "  </thead>\n",
       "  <tbody>\n",
       "    <tr>\n",
       "      <th>0</th>\n",
       "      <td>LFL</td>\n",
       "      <td>0</td>\n",
       "      <td>478</td>\n",
       "      <td>2675</td>\n",
       "      <td>0.292</td>\n",
       "      <td>1.5</td>\n",
       "      <td>0.35</td>\n",
       "      <td>0.62</td>\n",
       "    </tr>\n",
       "    <tr>\n",
       "      <th>1</th>\n",
       "      <td>LPL</td>\n",
       "      <td>10</td>\n",
       "      <td>801</td>\n",
       "      <td>6885</td>\n",
       "      <td>0.188</td>\n",
       "      <td>1.5</td>\n",
       "      <td>0.35</td>\n",
       "      <td>0.64</td>\n",
       "    </tr>\n",
       "    <tr>\n",
       "      <th>2</th>\n",
       "      <td>Prime_Tier2</td>\n",
       "      <td>0</td>\n",
       "      <td>128</td>\n",
       "      <td>3315</td>\n",
       "      <td>0.191</td>\n",
       "      <td>1.5</td>\n",
       "      <td>0.35</td>\n",
       "      <td>0.73</td>\n",
       "    </tr>\n",
       "    <tr>\n",
       "      <th>3</th>\n",
       "      <td>Ultraliga</td>\n",
       "      <td>0</td>\n",
       "      <td>234</td>\n",
       "      <td>9785</td>\n",
       "      <td>0.129</td>\n",
       "      <td>1.5</td>\n",
       "      <td>0.35</td>\n",
       "      <td>0.71</td>\n",
       "    </tr>\n",
       "    <tr>\n",
       "      <th>4</th>\n",
       "      <td>SuperLiga_Tier2</td>\n",
       "      <td>2</td>\n",
       "      <td>120</td>\n",
       "      <td>4039</td>\n",
       "      <td>0.000</td>\n",
       "      <td>1.5</td>\n",
       "      <td>0.35</td>\n",
       "      <td>1.00</td>\n",
       "    </tr>\n",
       "  </tbody>\n",
       "</table>\n",
       "</div>"
      ],
      "text/plain": [
       "            region  model test_size train_size  error  cut_off_var  threshold  \\\n",
       "0              LFL      0       478       2675  0.292          1.5       0.35   \n",
       "1              LPL     10       801       6885  0.188          1.5       0.35   \n",
       "2      Prime_Tier2      0       128       3315  0.191          1.5       0.35   \n",
       "3        Ultraliga      0       234       9785  0.129          1.5       0.35   \n",
       "4  SuperLiga_Tier2      2       120       4039  0.000          1.5       0.35   \n",
       "\n",
       "   len_lost  \n",
       "0      0.62  \n",
       "1      0.64  \n",
       "2      0.73  \n",
       "3      0.71  \n",
       "4      1.00  "
      ]
     },
     "execution_count": 4,
     "metadata": {},
     "output_type": "execute_result"
    }
   ],
   "source": [
    "print(np.mean(Utils.regions_stats['error']))\n",
    "Utils.regions_stats.head()"
   ]
  },
  {
   "attachments": {},
   "cell_type": "markdown",
   "metadata": {},
   "source": [
    "# Auto validation"
   ]
  },
  {
   "cell_type": "code",
   "execution_count": 5,
   "metadata": {},
   "outputs": [
    {
     "name": "stdout",
     "output_type": "stream",
     "text": [
      "============\n",
      "Tournament: Hitpoint_Tier220231\n",
      "\n",
      "Expected error: 0.094\n",
      "Real error: 0.0\n",
      "Len: 12\n",
      "Len lost: 0.83\n",
      "True len: 2\n",
      "============\n",
      "Tournament: LFL20231\n",
      "\n",
      "Expected error: 0.292\n",
      "Real error: 0.182\n",
      "Len: 40\n",
      "Len lost: 0.72\n",
      "True len: 11\n",
      "============\n",
      "Tournament: LLA20231\n",
      "\n",
      "Expected error: 0.211\n",
      "Real error: 0.25\n",
      "Len: 18\n",
      "Len lost: 0.56\n",
      "True len: 8\n",
      "============\n",
      "Tournament: LPL20231\n",
      "\n",
      "Expected error: 0.188\n",
      "Real error: 0.217\n",
      "Len: 97\n",
      "Len lost: 0.76\n",
      "True len: 23\n",
      "============\n",
      "Tournament: LCO20231\n",
      "no data left after filtering\n",
      "\n",
      "Expected error: 0.12\n",
      "Real error: 1.0\n",
      "Len: 10\n",
      "Len lost: 1.0\n",
      "True len: 0\n",
      "============\n",
      "Tournament: LCK_Tier220231\n",
      "\n",
      "Expected error: 0.283\n",
      "Real error: 0.6\n",
      "Len: 39\n",
      "Len lost: 0.62\n",
      "True len: 15\n",
      "============\n",
      "Tournament: NLC20231\n",
      "\n",
      "Expected error: 0.184\n",
      "Real error: 0.667\n",
      "Len: 16\n",
      "Len lost: 0.44\n",
      "True len: 9\n",
      "============\n",
      "Tournament: GLL20231\n",
      "\n",
      "Expected error: 0.083\n",
      "Real error: 0.182\n",
      "Len: 20\n",
      "Len lost: 0.45\n",
      "True len: 11\n",
      "============\n",
      "Tournament: Elite_Tier220231\n",
      "\n",
      "Expected error: 0.254\n",
      "Real error: 0.2\n",
      "Len: 12\n",
      "Len lost: 0.58\n",
      "True len: 5\n",
      "============\n",
      "Tournament: Prime_Tier220231\n",
      "\n",
      "Expected error: 0.191\n",
      "Real error: 0.083\n",
      "Len: 26\n",
      "Len lost: 0.54\n",
      "True len: 12\n",
      "============\n",
      "Tournament: Ultraliga20231\n",
      "\n",
      "Expected error: 0.129\n",
      "Real error: 0.286\n",
      "Len: 19\n",
      "Len lost: 0.63\n",
      "True len: 7\n",
      "============\n",
      "Tournament: CBLOL_Tier220231\n",
      "\n",
      "Expected error: 0.202\n",
      "Real error: 0.75\n",
      "Len: 9\n",
      "Len lost: 0.56\n",
      "True len: 4\n",
      "============\n",
      "Tournament: Arabian20231\n",
      "\n",
      "Expected error: 0.111\n",
      "Real error: 0.286\n",
      "Len: 8\n",
      "Len lost: 0.12\n",
      "True len: 7\n",
      "============\n",
      "Tournament: NACL20231\n",
      "\n",
      "Expected error: 0.264\n",
      "Real error: 0.125\n",
      "Len: 18\n",
      "Len lost: 0.11\n",
      "True len: 16\n",
      "============\n",
      "Tournament: SuperLiga_Tier220231\n",
      "\n",
      "Expected error: 0.0\n",
      "Real error: 0.0\n",
      "Len: 30\n",
      "Len lost: 0.93\n",
      "True len: 2\n",
      "============\n",
      "Tournament: LJL20231\n",
      "\n",
      "Expected error: 0.153\n",
      "Real error: 1.0\n",
      "Len: 11\n",
      "Len lost: 0.73\n",
      "True len: 3\n",
      "============\n",
      "Tournament: CBLOL20231\n",
      "\n",
      "Expected error: 0.224\n",
      "Real error: 0.5\n",
      "Len: 10\n",
      "Len lost: 0.6\n",
      "True len: 4\n",
      "============\n",
      "Tournament: LCK20231\n",
      "\n",
      "Expected error: 0.257\n",
      "Real error: 0.636\n",
      "Len: 33\n",
      "Len lost: 0.0\n",
      "True len: 33\n",
      "============\n",
      "Tournament: PG20231\n",
      "\n",
      "Expected error: 0.094\n",
      "Real error: 0.0\n",
      "Len: 8\n",
      "Len lost: 0.5\n",
      "True len: 4\n",
      "============\n",
      "Tournament: Prime20231\n",
      "\n",
      "Expected error: 0.264\n",
      "Real error: 0.333\n",
      "Len: 25\n",
      "Len lost: 0.4\n",
      "True len: 15\n",
      "============\n",
      "Tournament: EBL20231\n",
      "\n",
      "Expected error: 0.065\n",
      "Real error: 0.333\n",
      "Len: 12\n",
      "Len lost: 0.5\n",
      "True len: 6\n",
      "============\n",
      "Tournament: SuperLiga20231\n",
      "\n",
      "Expected error: 0.278\n",
      "Real error: 0.5\n",
      "Len: 15\n",
      "Len lost: 0.73\n",
      "True len: 4\n",
      "============\n",
      "Tournament: LPLOL20231\n",
      "\n",
      "Expected error: 0.02\n",
      "Real error: 0.0\n",
      "Len: 12\n",
      "Len lost: 0.67\n",
      "True len: 4\n",
      "\n",
      "===============\n",
      "\n",
      "Mean real error: 0.35121951219512193\n",
      "Len lost: 295\n",
      "Start len: 500\n",
      "Final len: 205\n"
     ]
    }
   ],
   "source": [
    "final_df = pd.DataFrame()\n",
    "regions_stats_proof = pd.DataFrame(columns=['region','error','len lost','len', 'true_len'])\n",
    "Utils.logistic_threshold = 0.35\n",
    "final_len = 0\n",
    "\n",
    "for tournament in validation_df.tournamentId.unique():\n",
    "    print('============')\n",
    "    print(f'Tournament: {tournament}')\n",
    "\n",
    "    region_abrev = tournament[:-5]\n",
    "    if region_abrev not in Utils.regions_feature_cols:\n",
    "        continue\n",
    "    # if region_abrev == 'LCK':\n",
    "    #     continue\n",
    "\n",
    "    old_error = Utils.regions_stats[Utils.regions_stats['region']==region_abrev].error.iloc[0]\n",
    "    target_df = Utils.TARGET_DF.copy()\n",
    "    feature_columns = Utils.regions_feature_cols[region_abrev]\n",
    "    train_data = Utils.regions_train_data[region_abrev]\n",
    "    target_columns = [x for x in list(target_df.columns) if x.replace('Team_Red_','').replace('Team_Blue_','') in feature_columns]\n",
    "\n",
    "    train_df = target_df[target_df['regionAbrev'].isin(train_data)].copy()\n",
    "    train_df = train_df[train_df['realSemesterYear'].astype(int) < int(CURRENT_YEAR_SEMESTER)]\n",
    "    train_df = train_df[target_columns + Utils.INFO_COLS]\n",
    "    xtrain = train_df.drop(['Date', Utils.TARGET] + OFF_COLS, axis=1, errors='ignore').copy()\n",
    "    ytrain = train_df[Utils.TARGET]\n",
    "\n",
    "    prediction_df = validation_df[validation_df['tournamentId'] == tournament].copy()\n",
    "    prediction_df = prediction_df[target_columns + Utils.INFO_COLS]\n",
    "    xtest = prediction_df.drop(['Date', Utils.TARGET] + OFF_COLS, axis=1, errors='ignore').copy()\n",
    "    ytest = prediction_df[Utils.TARGET]\n",
    "    \n",
    "    model_number = Utils.regions_stats[Utils.regions_stats.region == region_abrev].model.iloc[0]\n",
    "\n",
    "    metric, prediction = Utils.make_pred(model_number=model_number, xtrain=xtrain, ytrain=ytrain, xtest=xtest, ytest=ytest, reps=1)\n",
    "    true_len = round(len(ytest)*abs(Utils.len_lost-1))\n",
    "\n",
    "    df_to_concat = pd.DataFrame([prediction, ytest]).transpose()\n",
    "    df_to_concat['region'] = region_abrev\n",
    "    final_df = pd.concat([final_df,df_to_concat])\n",
    "\n",
    "    df_to_concat = pd.DataFrame([region_abrev, metric, Utils.len_lost, len(ytest), true_len]).transpose()\n",
    "    df_to_concat.columns = ['region','error','len lost','len','true_len']\n",
    "    regions_stats_proof = pd.concat([regions_stats_proof,df_to_concat])\n",
    "\n",
    "    print(f'\\nExpected error: {old_error}')\n",
    "    print(f'Real error: {metric}')\n",
    "    print(f'Len: {len(ytest)}')\n",
    "    print(f'Len lost: {Utils.len_lost}')\n",
    "    print(f'True len: {true_len}')\n",
    "\n",
    "\n",
    "final_df_filter = final_df[(final_df[0]<=Utils.logistic_threshold) | (final_df[0]>=1-Utils.logistic_threshold)]\n",
    "final_df_filter[0] = final_df_filter[0].round()\n",
    "final_df_filter['error'] = final_df_filter[0]!=final_df_filter[1]\n",
    "mean_real_error = skm.mean_absolute_error(round(final_df_filter[0]), final_df_filter[1])\n",
    "all_len_lost = len(final_df) - len(final_df_filter)\n",
    "regions_stats_proof = regions_stats_proof[regions_stats_proof['true_len']>0]\n",
    "\n",
    "print('\\n===============\\n')\n",
    "print(f'Mean real error: {mean_real_error}')\n",
    "print(f'Len lost: {all_len_lost}')\n",
    "print(f'Start len: {len(final_df)}')\n",
    "print(f'Final len: {len(final_df_filter)}')\n"
   ]
  },
  {
   "cell_type": "code",
   "execution_count": 5,
   "metadata": {},
   "outputs": [
    {
     "ename": "NameError",
     "evalue": "name 'regions_stats_proof' is not defined",
     "output_type": "error",
     "traceback": [
      "\u001b[1;31m---------------------------------------------------------------------------\u001b[0m",
      "\u001b[1;31mNameError\u001b[0m                                 Traceback (most recent call last)",
      "Cell \u001b[1;32mIn[5], line 1\u001b[0m\n\u001b[1;32m----> 1\u001b[0m regions_stats_proof\u001b[39m.\u001b[39msort_values(by\u001b[39m=\u001b[39m\u001b[39m'\u001b[39m\u001b[39merror\u001b[39m\u001b[39m'\u001b[39m)\n",
      "\u001b[1;31mNameError\u001b[0m: name 'regions_stats_proof' is not defined"
     ]
    }
   ],
   "source": [
    "regions_stats_proof.sort_values(by='error')"
   ]
  },
  {
   "attachments": {},
   "cell_type": "markdown",
   "metadata": {},
   "source": [
    "# Manual validation"
   ]
  },
  {
   "cell_type": "code",
   "execution_count": 6,
   "metadata": {},
   "outputs": [
    {
     "name": "stdout",
     "output_type": "stream",
     "text": [
      "{0: 'ASP Esports', 1: 'Boavista FC', 2: 'Byteway Esports', 3: 'Cidade Curiosa', 4: 'Doxa Gaming', 5: 'EFIVE Esports', 6: 'EGN Esports', 7: 'Electronik Generation', 8: 'Estoril Praia eSports', 9: 'For The Win', 10: 'For The Win Esports', 11: 'For The Win eSports Club', 12: 'GTZ Bulls', 13: 'GTZ Esports', 14: 'GeekCase eSports', 15: 'Grow Up eSports', 16: 'Hexagone eSports', 17: 'K1CK eSports Club', 18: 'Karma Clan Esports', 19: 'Keypulse Esports', 20: 'OFFSET Esports', 21: 'Odivelas Sports Club', 22: 'SAMCLAN Esports', 23: 'SAMCLAN Esports Club', 24: 'White Dragons'}\n"
     ]
    }
   ],
   "source": [
    "Model.print_region_teams('LPLOL')"
   ]
  },
  {
   "cell_type": "code",
   "execution_count": 7,
   "metadata": {},
   "outputs": [
    {
     "name": "stdout",
     "output_type": "stream",
     "text": [
      "team_blue_list = ['Jackie', 'RapMonsters', 'Qu4rtzo', 'Lyrokun', 'sNaN']\n",
      "team_red_list = ['Vortum', 'Lulas', 'Cayetano', 'zekja', 'Tochas']\n"
     ]
    }
   ],
   "source": [
    "Model.blue_team = 19\n",
    "Model.red_team = 6\n",
    "Model.print_team_players()\n",
    "\n",
    "#team_blue_list=['Wayward', 'Tian', 'RooKie', 'JackeyLove', 'Mark']\n",
    "#team_red_list=['Zika', 'Tarzan', 'Scout', 'GALA', 'Hang']"
   ]
  },
  {
   "cell_type": "code",
   "execution_count": 10,
   "metadata": {},
   "outputs": [],
   "source": [
    "team_blue_list = ['HUGOD', 'RapMonsters', 'Qu4rtzo', 'Lyrokun', 'Shieda']\n",
    "team_red_list = ['Vortum', 'Lulas', 'Cayetano', 'zekja', 'Tochas']"
   ]
  },
  {
   "cell_type": "code",
   "execution_count": 11,
   "metadata": {},
   "outputs": [
    {
     "name": "stdout",
     "output_type": "stream",
     "text": [
      "last train data: 2023-06-15 00:00:00\n",
      "=================\n",
      "no data names on: ['zekja']\n",
      "0.8865574994520661\n"
     ]
    }
   ],
   "source": [
    "Model.make_prediction(manual_insert=True, team_blue_list=team_blue_list, team_red_list=team_red_list)"
   ]
  },
  {
   "cell_type": "code",
   "execution_count": null,
   "metadata": {},
   "outputs": [],
   "source": [
    "Utils.bet_ratio_vars(result=0.1, ratio=1.6, chance=None)"
   ]
  }
 ],
 "metadata": {
  "kernelspec": {
   "display_name": ".venv",
   "language": "python",
   "name": "python3"
  },
  "language_info": {
   "codemirror_mode": {
    "name": "ipython",
    "version": 3
   },
   "file_extension": ".py",
   "mimetype": "text/x-python",
   "name": "python",
   "nbconvert_exporter": "python",
   "pygments_lexer": "ipython3",
   "version": "3.9.16"
  },
  "orig_nbformat": 4
 },
 "nbformat": 4,
 "nbformat_minor": 2
}
